{
  "nbformat": 4,
  "nbformat_minor": 0,
  "metadata": {
    "colab": {
      "name": "BÀI TẬP HỌC MÁY ipynb",
      "provenance": [],
      "collapsed_sections": []
    },
    "kernelspec": {
      "name": "python3",
      "display_name": "Python 3"
    }
  },
  "cells": [
    {
      "cell_type": "code",
      "metadata": {
        "colab": {
          "base_uri": "https://localhost:8080/",
          "height": 383
        },
        "id": "qxZMALXiVo2D",
        "outputId": "de645b99-d20e-4578-cd45-d89ed5931a10"
      },
      "source": [
        "import pandas as pd\n",
        "data_path = '/content/drive/MyDrive/train.csv'\n",
        "df = pd.read_csv(data_path)\n",
        "df.head(10)"
      ],
      "execution_count": null,
      "outputs": [
        {
          "output_type": "execute_result",
          "data": {
            "text/html": [
              "<div>\n",
              "<style scoped>\n",
              "    .dataframe tbody tr th:only-of-type {\n",
              "        vertical-align: middle;\n",
              "    }\n",
              "\n",
              "    .dataframe tbody tr th {\n",
              "        vertical-align: top;\n",
              "    }\n",
              "\n",
              "    .dataframe thead th {\n",
              "        text-align: right;\n",
              "    }\n",
              "</style>\n",
              "<table border=\"1\" class=\"dataframe\">\n",
              "  <thead>\n",
              "    <tr style=\"text-align: right;\">\n",
              "      <th></th>\n",
              "      <th>battery_power</th>\n",
              "      <th>blue</th>\n",
              "      <th>clock_speed</th>\n",
              "      <th>dual_sim</th>\n",
              "      <th>fc</th>\n",
              "      <th>four_g</th>\n",
              "      <th>int_memory</th>\n",
              "      <th>m_dep</th>\n",
              "      <th>mobile_wt</th>\n",
              "      <th>n_cores</th>\n",
              "      <th>pc</th>\n",
              "      <th>px_height</th>\n",
              "      <th>px_width</th>\n",
              "      <th>ram</th>\n",
              "      <th>sc_h</th>\n",
              "      <th>sc_w</th>\n",
              "      <th>talk_time</th>\n",
              "      <th>three_g</th>\n",
              "      <th>touch_screen</th>\n",
              "      <th>wifi</th>\n",
              "      <th>price_range</th>\n",
              "    </tr>\n",
              "  </thead>\n",
              "  <tbody>\n",
              "    <tr>\n",
              "      <th>0</th>\n",
              "      <td>842</td>\n",
              "      <td>0</td>\n",
              "      <td>2.2</td>\n",
              "      <td>0</td>\n",
              "      <td>1</td>\n",
              "      <td>0</td>\n",
              "      <td>7</td>\n",
              "      <td>0.6</td>\n",
              "      <td>188</td>\n",
              "      <td>2</td>\n",
              "      <td>2</td>\n",
              "      <td>20</td>\n",
              "      <td>756</td>\n",
              "      <td>2549</td>\n",
              "      <td>9</td>\n",
              "      <td>7</td>\n",
              "      <td>19</td>\n",
              "      <td>0</td>\n",
              "      <td>0</td>\n",
              "      <td>1</td>\n",
              "      <td>1</td>\n",
              "    </tr>\n",
              "    <tr>\n",
              "      <th>1</th>\n",
              "      <td>1021</td>\n",
              "      <td>1</td>\n",
              "      <td>0.5</td>\n",
              "      <td>1</td>\n",
              "      <td>0</td>\n",
              "      <td>1</td>\n",
              "      <td>53</td>\n",
              "      <td>0.7</td>\n",
              "      <td>136</td>\n",
              "      <td>3</td>\n",
              "      <td>6</td>\n",
              "      <td>905</td>\n",
              "      <td>1988</td>\n",
              "      <td>2631</td>\n",
              "      <td>17</td>\n",
              "      <td>3</td>\n",
              "      <td>7</td>\n",
              "      <td>1</td>\n",
              "      <td>1</td>\n",
              "      <td>0</td>\n",
              "      <td>2</td>\n",
              "    </tr>\n",
              "    <tr>\n",
              "      <th>2</th>\n",
              "      <td>563</td>\n",
              "      <td>1</td>\n",
              "      <td>0.5</td>\n",
              "      <td>1</td>\n",
              "      <td>2</td>\n",
              "      <td>1</td>\n",
              "      <td>41</td>\n",
              "      <td>0.9</td>\n",
              "      <td>145</td>\n",
              "      <td>5</td>\n",
              "      <td>6</td>\n",
              "      <td>1263</td>\n",
              "      <td>1716</td>\n",
              "      <td>2603</td>\n",
              "      <td>11</td>\n",
              "      <td>2</td>\n",
              "      <td>9</td>\n",
              "      <td>1</td>\n",
              "      <td>1</td>\n",
              "      <td>0</td>\n",
              "      <td>2</td>\n",
              "    </tr>\n",
              "    <tr>\n",
              "      <th>3</th>\n",
              "      <td>615</td>\n",
              "      <td>1</td>\n",
              "      <td>2.5</td>\n",
              "      <td>0</td>\n",
              "      <td>0</td>\n",
              "      <td>0</td>\n",
              "      <td>10</td>\n",
              "      <td>0.8</td>\n",
              "      <td>131</td>\n",
              "      <td>6</td>\n",
              "      <td>9</td>\n",
              "      <td>1216</td>\n",
              "      <td>1786</td>\n",
              "      <td>2769</td>\n",
              "      <td>16</td>\n",
              "      <td>8</td>\n",
              "      <td>11</td>\n",
              "      <td>1</td>\n",
              "      <td>0</td>\n",
              "      <td>0</td>\n",
              "      <td>2</td>\n",
              "    </tr>\n",
              "    <tr>\n",
              "      <th>4</th>\n",
              "      <td>1821</td>\n",
              "      <td>1</td>\n",
              "      <td>1.2</td>\n",
              "      <td>0</td>\n",
              "      <td>13</td>\n",
              "      <td>1</td>\n",
              "      <td>44</td>\n",
              "      <td>0.6</td>\n",
              "      <td>141</td>\n",
              "      <td>2</td>\n",
              "      <td>14</td>\n",
              "      <td>1208</td>\n",
              "      <td>1212</td>\n",
              "      <td>1411</td>\n",
              "      <td>8</td>\n",
              "      <td>2</td>\n",
              "      <td>15</td>\n",
              "      <td>1</td>\n",
              "      <td>1</td>\n",
              "      <td>0</td>\n",
              "      <td>1</td>\n",
              "    </tr>\n",
              "    <tr>\n",
              "      <th>5</th>\n",
              "      <td>1859</td>\n",
              "      <td>0</td>\n",
              "      <td>0.5</td>\n",
              "      <td>1</td>\n",
              "      <td>3</td>\n",
              "      <td>0</td>\n",
              "      <td>22</td>\n",
              "      <td>0.7</td>\n",
              "      <td>164</td>\n",
              "      <td>1</td>\n",
              "      <td>7</td>\n",
              "      <td>1004</td>\n",
              "      <td>1654</td>\n",
              "      <td>1067</td>\n",
              "      <td>17</td>\n",
              "      <td>1</td>\n",
              "      <td>10</td>\n",
              "      <td>1</td>\n",
              "      <td>0</td>\n",
              "      <td>0</td>\n",
              "      <td>1</td>\n",
              "    </tr>\n",
              "    <tr>\n",
              "      <th>6</th>\n",
              "      <td>1821</td>\n",
              "      <td>0</td>\n",
              "      <td>1.7</td>\n",
              "      <td>0</td>\n",
              "      <td>4</td>\n",
              "      <td>1</td>\n",
              "      <td>10</td>\n",
              "      <td>0.8</td>\n",
              "      <td>139</td>\n",
              "      <td>8</td>\n",
              "      <td>10</td>\n",
              "      <td>381</td>\n",
              "      <td>1018</td>\n",
              "      <td>3220</td>\n",
              "      <td>13</td>\n",
              "      <td>8</td>\n",
              "      <td>18</td>\n",
              "      <td>1</td>\n",
              "      <td>0</td>\n",
              "      <td>1</td>\n",
              "      <td>3</td>\n",
              "    </tr>\n",
              "    <tr>\n",
              "      <th>7</th>\n",
              "      <td>1954</td>\n",
              "      <td>0</td>\n",
              "      <td>0.5</td>\n",
              "      <td>1</td>\n",
              "      <td>0</td>\n",
              "      <td>0</td>\n",
              "      <td>24</td>\n",
              "      <td>0.8</td>\n",
              "      <td>187</td>\n",
              "      <td>4</td>\n",
              "      <td>0</td>\n",
              "      <td>512</td>\n",
              "      <td>1149</td>\n",
              "      <td>700</td>\n",
              "      <td>16</td>\n",
              "      <td>3</td>\n",
              "      <td>5</td>\n",
              "      <td>1</td>\n",
              "      <td>1</td>\n",
              "      <td>1</td>\n",
              "      <td>0</td>\n",
              "    </tr>\n",
              "    <tr>\n",
              "      <th>8</th>\n",
              "      <td>1445</td>\n",
              "      <td>1</td>\n",
              "      <td>0.5</td>\n",
              "      <td>0</td>\n",
              "      <td>0</td>\n",
              "      <td>0</td>\n",
              "      <td>53</td>\n",
              "      <td>0.7</td>\n",
              "      <td>174</td>\n",
              "      <td>7</td>\n",
              "      <td>14</td>\n",
              "      <td>386</td>\n",
              "      <td>836</td>\n",
              "      <td>1099</td>\n",
              "      <td>17</td>\n",
              "      <td>1</td>\n",
              "      <td>20</td>\n",
              "      <td>1</td>\n",
              "      <td>0</td>\n",
              "      <td>0</td>\n",
              "      <td>0</td>\n",
              "    </tr>\n",
              "    <tr>\n",
              "      <th>9</th>\n",
              "      <td>509</td>\n",
              "      <td>1</td>\n",
              "      <td>0.6</td>\n",
              "      <td>1</td>\n",
              "      <td>2</td>\n",
              "      <td>1</td>\n",
              "      <td>9</td>\n",
              "      <td>0.1</td>\n",
              "      <td>93</td>\n",
              "      <td>5</td>\n",
              "      <td>15</td>\n",
              "      <td>1137</td>\n",
              "      <td>1224</td>\n",
              "      <td>513</td>\n",
              "      <td>19</td>\n",
              "      <td>10</td>\n",
              "      <td>12</td>\n",
              "      <td>1</td>\n",
              "      <td>0</td>\n",
              "      <td>0</td>\n",
              "      <td>0</td>\n",
              "    </tr>\n",
              "  </tbody>\n",
              "</table>\n",
              "</div>"
            ],
            "text/plain": [
              "   battery_power  blue  clock_speed  ...  touch_screen  wifi  price_range\n",
              "0            842     0          2.2  ...             0     1            1\n",
              "1           1021     1          0.5  ...             1     0            2\n",
              "2            563     1          0.5  ...             1     0            2\n",
              "3            615     1          2.5  ...             0     0            2\n",
              "4           1821     1          1.2  ...             1     0            1\n",
              "5           1859     0          0.5  ...             0     0            1\n",
              "6           1821     0          1.7  ...             0     1            3\n",
              "7           1954     0          0.5  ...             1     1            0\n",
              "8           1445     1          0.5  ...             0     0            0\n",
              "9            509     1          0.6  ...             0     0            0\n",
              "\n",
              "[10 rows x 21 columns]"
            ]
          },
          "metadata": {
            "tags": []
          },
          "execution_count": 40
        }
      ]
    },
    {
      "cell_type": "code",
      "metadata": {
        "colab": {
          "base_uri": "https://localhost:8080/"
        },
        "id": "tAbigsdSXyjP",
        "outputId": "ab97faaa-e581-42c2-a104-f0abaeef9018"
      },
      "source": [
        "import numpy as np\n",
        "Y = np.array(df['price_range'], dtype=np.float32)\n",
        "print(Y.shape)\n",
        "X = df.drop(['price_range'], axis=1)\n",
        "X = np.array(X, dtype=np.float32) # so luong dien thoai và thuoc tinh\n",
        "print(X.shape)"
      ],
      "execution_count": null,
      "outputs": [
        {
          "output_type": "stream",
          "text": [
            "(2000,)\n",
            "(2000, 20)\n"
          ],
          "name": "stdout"
        }
      ]
    },
    {
      "cell_type": "code",
      "metadata": {
        "id": "_EJOvT--X0nz"
      },
      "source": [
        "from sklearn.model_selection import train_test_split\n",
        "\n",
        "x_train, x_test, y_train, y_test = train_test_split(X, Y, test_size=0.3, random_state=42)"
      ],
      "execution_count": null,
      "outputs": []
    },
    {
      "cell_type": "code",
      "metadata": {
        "id": "BapvjHHYX2pu",
        "colab": {
          "base_uri": "https://localhost:8080/"
        },
        "outputId": "be2c28b0-fbee-4d9e-81af-c172009d438b"
      },
      "source": [
        "# bat dau train\n",
        "import time\n",
        "from sklearn.svm import SVC\n",
        "\n",
        "start=time.time()\n",
        "model = SVC(kernel='linear', random_state=42)\n",
        "model.fit(x_train, y_train)\n",
        "end=time.time()\n",
        "print(end-start)\n",
        "acc = round(model.score(x_train, y_train)*100, 2)\n",
        "print(acc)\n",
        "\n",
        "#danh gia tinh chinh xac cua mo hinh\n",
        "from sklearn.metrics import confusion_matrix, precision_recall_fscore_support\n",
        "\n",
        "conf = confusion_matrix(y_test, y_pred)\n",
        "print(conf)\n",
        "\n",
        "precision, recall, f1score = precision_recall_fscore_support(y_test, y_pred, average='weighted')[:3]\n",
        "print(precision, recall, f1score)"
      ],
      "execution_count": null,
      "outputs": [
        {
          "output_type": "stream",
          "text": [
            "9.382476568222046\n",
            "99.21\n",
            "[[144   7   0   0]\n",
            " [ 12 126   8   0]\n",
            " [  0  19 117  12]\n",
            " [  0   0  11 144]]\n",
            "0.8846856394379614 0.885 0.8843307497319173\n"
          ],
          "name": "stdout"
        }
      ]
    },
    {
      "cell_type": "code",
      "metadata": {
        "id": "xGVIsAwDX9Uj",
        "colab": {
          "base_uri": "https://localhost:8080/"
        },
        "outputId": "3b791950-38f0-4570-afb4-41961f9f200f"
      },
      "source": [
        "y_pred = model.predict(x_test)\n",
        "print(y_pred[1],x_test[1]) #xuat ket qua khi biet dau vao cua 1 test\n",
        "print(y_pred) # xuat tat ca cac ket qua khi co cac test dau vao"
      ],
      "execution_count": null,
      "outputs": [
        {
          "output_type": "stream",
          "text": [
            "2.0 [1.182e+03 0.000e+00 5.000e-01 0.000e+00 7.000e+00 1.000e+00 8.000e+00\n",
            " 5.000e-01 1.380e+02 8.000e+00 1.600e+01 2.750e+02 9.860e+02 2.563e+03\n",
            " 1.900e+01 1.700e+01 1.900e+01 1.000e+00 0.000e+00 0.000e+00]\n",
            "[0. 2. 1. 3. 1. 1. 2. 0. 3. 1. 0. 1. 2. 3. 3. 2. 3. 3. 1. 0. 0. 2. 1. 2.\n",
            " 0. 1. 3. 2. 2. 0. 0. 0. 3. 0. 1. 1. 2. 0. 3. 0. 2. 3. 2. 0. 3. 3. 2. 1.\n",
            " 3. 1. 3. 1. 0. 0. 1. 1. 1. 3. 0. 0. 1. 3. 3. 1. 0. 0. 3. 3. 1. 2. 2. 2.\n",
            " 0. 1. 2. 0. 1. 3. 2. 2. 3. 2. 1. 0. 1. 3. 1. 3. 3. 0. 3. 3. 2. 1. 3. 2.\n",
            " 2. 3. 1. 1. 0. 0. 1. 0. 1. 3. 2. 0. 1. 1. 0. 0. 3. 1. 3. 2. 3. 2. 0. 2.\n",
            " 1. 3. 2. 1. 3. 3. 0. 2. 0. 2. 3. 0. 2. 2. 0. 3. 1. 0. 0. 2. 2. 1. 2. 2.\n",
            " 0. 0. 0. 1. 1. 2. 3. 1. 1. 0. 2. 2. 0. 1. 0. 2. 2. 3. 3. 3. 1. 0. 1. 2.\n",
            " 2. 3. 3. 0. 1. 0. 3. 1. 1. 2. 1. 0. 0. 0. 0. 0. 3. 2. 0. 3. 0. 0. 0. 0.\n",
            " 1. 3. 3. 1. 0. 1. 1. 1. 1. 2. 2. 3. 3. 3. 1. 2. 0. 0. 0. 2. 1. 1. 3. 1.\n",
            " 1. 2. 1. 1. 3. 2. 3. 0. 0. 2. 1. 3. 0. 1. 2. 0. 2. 3. 2. 0. 1. 3. 3. 0.\n",
            " 1. 3. 3. 3. 0. 3. 1. 2. 3. 3. 2. 1. 0. 3. 3. 1. 3. 3. 3. 3. 3. 0. 1. 2.\n",
            " 2. 1. 3. 0. 2. 3. 2. 2. 2. 1. 0. 2. 0. 3. 3. 1. 3. 1. 1. 3. 1. 2. 0. 0.\n",
            " 3. 0. 1. 2. 3. 3. 3. 1. 1. 0. 1. 3. 3. 0. 1. 2. 2. 0. 3. 3. 2. 3. 2. 3.\n",
            " 2. 0. 2. 1. 1. 1. 0. 0. 0. 3. 3. 3. 1. 0. 1. 0. 2. 2. 3. 0. 3. 3. 2. 1.\n",
            " 3. 0. 0. 2. 1. 3. 2. 0. 1. 1. 1. 1. 1. 3. 2. 0. 0. 3. 3. 0. 3. 0. 0. 2.\n",
            " 0. 1. 2. 2. 2. 3. 0. 3. 2. 3. 3. 3. 3. 2. 1. 1. 0. 3. 1. 3. 3. 0. 2. 3.\n",
            " 2. 3. 3. 3. 0. 0. 2. 3. 0. 0. 2. 3. 2. 1. 1. 2. 1. 3. 0. 3. 1. 2. 0. 0.\n",
            " 1. 0. 1. 0. 1. 0. 2. 2. 3. 2. 1. 1. 2. 1. 1. 3. 1. 0. 0. 3. 0. 1. 0. 0.\n",
            " 2. 3. 3. 0. 2. 0. 1. 1. 3. 3. 1. 2. 0. 2. 0. 0. 3. 3. 0. 2. 2. 2. 3. 1.\n",
            " 2. 0. 1. 3. 1. 0. 3. 1. 0. 0. 3. 2. 3. 2. 0. 2. 1. 0. 1. 2. 3. 2. 1. 1.\n",
            " 0. 1. 2. 2. 1. 0. 1. 3. 1. 2. 0. 2. 2. 3. 0. 0. 1. 2. 3. 1. 1. 2. 3. 0.\n",
            " 2. 2. 3. 2. 2. 2. 3. 2. 1. 1. 0. 1. 0. 3. 1. 0. 2. 1. 2. 3. 3. 3. 3. 2.\n",
            " 0. 3. 1. 2. 0. 3. 3. 1. 2. 2. 3. 2. 1. 3. 1. 2. 1. 3. 1. 2. 1. 3. 1. 1.\n",
            " 2. 3. 1. 0. 0. 2. 3. 3. 1. 1. 2. 0. 2. 0. 1. 3. 0. 0. 2. 3. 1. 1. 3. 0.\n",
            " 2. 0. 0. 1. 1. 3. 1. 2. 1. 3. 2. 1. 2. 3. 3. 2. 0. 0. 1. 2. 1. 0. 1. 0.]\n"
          ],
          "name": "stdout"
        }
      ]
    },
    {
      "cell_type": "code",
      "metadata": {
        "id": "q8PyFID8YBry",
        "colab": {
          "base_uri": "https://localhost:8080/"
        },
        "outputId": "5243e089-c4ac-4ad4-e6e3-eb990bb0a702"
      },
      "source": [
        "# so sanh chay voi mo hinh logistic\n",
        "import time\n",
        "from sklearn.linear_model import LogisticRegression\n",
        "start=time.time()\n",
        "model = LogisticRegression(random_state=0).fit(x_train, y_train)\n",
        "end=time.time()\n",
        "print(end-start)\n",
        "acc = round(model.score(x_train, y_train)*100, 2)\n",
        "print(acc)\n",
        "y_pred = model.predict(x_test)\n",
        "conf = confusion_matrix(y_test, y_pred)\n",
        "print(conf)"
      ],
      "execution_count": null,
      "outputs": [
        {
          "output_type": "stream",
          "text": [
            "0.10048127174377441\n",
            "64.07\n",
            "[[114  36   1   0]\n",
            " [ 27  73  37   9]\n",
            " [  1  30  79  38]\n",
            " [  0   3  37 115]]\n"
          ],
          "name": "stdout"
        },
        {
          "output_type": "stream",
          "text": [
            "/usr/local/lib/python3.6/dist-packages/sklearn/linear_model/_logistic.py:940: ConvergenceWarning: lbfgs failed to converge (status=1):\n",
            "STOP: TOTAL NO. of ITERATIONS REACHED LIMIT.\n",
            "\n",
            "Increase the number of iterations (max_iter) or scale the data as shown in:\n",
            "    https://scikit-learn.org/stable/modules/preprocessing.html\n",
            "Please also refer to the documentation for alternative solver options:\n",
            "    https://scikit-learn.org/stable/modules/linear_model.html#logistic-regression\n",
            "  extra_warning_msg=_LOGISTIC_SOLVER_CONVERGENCE_MSG)\n"
          ],
          "name": "stderr"
        }
      ]
    },
    {
      "cell_type": "code",
      "metadata": {
        "id": "nKUA-IvnYD77",
        "colab": {
          "base_uri": "https://localhost:8080/"
        },
        "outputId": "8e8e71d6-eab4-418d-d90c-bda9f63c5be8"
      },
      "source": [
        "# so sanh chay voi mo hinh knn\n",
        "import  time\n",
        "from sklearn.neighbors import KNeighborsClassifier\n",
        "start=time.time()\n",
        "model = KNeighborsClassifier(n_neighbors=3).fit(x_train, y_train)\n",
        "end=time.time()\n",
        "print(end-start)\n",
        "acc = round(model.score(x_train, y_train)*100, 2)\n",
        "print(acc)\n",
        "y_pred = model.predict(x_test)\n",
        "# print(x_test[1], model.predict(x_test[1][np.newaxis, ...]))\n",
        "conf = confusion_matrix(y_test, y_pred)\n",
        "print(conf)"
      ],
      "execution_count": null,
      "outputs": [
        {
          "output_type": "stream",
          "text": [
            "0.0048580169677734375\n",
            "96.07\n",
            "[[143   8   0   0]\n",
            " [  6 135   5   0]\n",
            " [  0  13 125  10]\n",
            " [  0   0  10 145]]\n"
          ],
          "name": "stdout"
        }
      ]
    },
    {
      "cell_type": "code",
      "metadata": {
        "id": "7JfOdIfEYF-i",
        "colab": {
          "base_uri": "https://localhost:8080/"
        },
        "outputId": "c1df7158-3565-47a6-89ac-269ebc997ac4"
      },
      "source": [
        "# so sanh chay voi mo hinh random forest\n",
        "import time\n",
        "from sklearn.ensemble import RandomForestClassifier\n",
        "start=time.time()\n",
        "model = RandomForestClassifier(criterion='entropy').fit(x_train, y_train)\n",
        "end=time.time()\n",
        "print(end-start)\n",
        "acc = round(model.score(x_train, y_train)*100, 2)\n",
        "print(acc)\n",
        "y_pred = model.predict(x_test)\n",
        "conf = confusion_matrix(y_test, y_pred)\n",
        "print(conf)"
      ],
      "execution_count": null,
      "outputs": [
        {
          "output_type": "stream",
          "text": [
            "0.5353724956512451\n",
            "100.0\n",
            "[[144   7   0   0]\n",
            " [ 12 126   8   0]\n",
            " [  0  19 117  12]\n",
            " [  0   0  11 144]]\n"
          ],
          "name": "stdout"
        }
      ]
    }
  ]
}